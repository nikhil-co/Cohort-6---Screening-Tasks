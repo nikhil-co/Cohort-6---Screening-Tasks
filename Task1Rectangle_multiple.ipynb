{
 "cells": [
  {
   "cell_type": "code",
   "execution_count": 16,
   "metadata": {},
   "outputs": [],
   "source": [
    "import pennylane as qml\n",
    "import numpy as np\n",
    "from itertools import combinations"
   ]
  },
  {
   "cell_type": "code",
   "execution_count": 22,
   "metadata": {},
   "outputs": [],
   "source": [
    "def find_n(feature:list):\n",
    "    \n",
    "    max_side = np.max(feature)\n",
    "    binary = bin(max_side)[2:]\n",
    "    n = len(binary)\n",
    "\n",
    "    return n"
   ]
  },
  {
   "cell_type": "code",
   "execution_count": 36,
   "metadata": {},
   "outputs": [],
   "source": [
    "def is_rectangle(sides:list):\n",
    "    n_qubits = find_n(sides)\n",
    "\n",
    "    dev_basis = qml.device('default.qubit',wires=1+4*n_qubits,shots=100)\n",
    "\n",
    "    wires_a = range(1,n_qubits+1)\n",
    "    wires_b = range(n_qubits+1,2*n_qubits+1)\n",
    "\n",
    "\n",
    "    def swap(wires_0,wires_1):\n",
    "        #Comparing a and b - or rather checking if a == b - returns |0> on the ancilla if equal and returns |+>\n",
    "        for i,j in zip(wires_0,wires_1):\n",
    "            qml.ctrl(qml.SWAP([i,j]),control=[0])\n",
    "\n",
    "\n",
    "    @qml.qnode(dev_basis)\n",
    "    def base_enc(feature:list):\n",
    "    \n",
    "        qml.BasisEmbedding(features=feature[0], wires=wires_a)\n",
    "        qml.BasisEmbedding(features=feature[1], wires=wires_b)\n",
    "        \n",
    "        qml.Hadamard(0)\n",
    "\n",
    "        swap(wires_a,wires_b)\n",
    "        \n",
    "        qml.Hadamard(0)\n",
    "        return qml.probs(0)\n",
    "    \n",
    "    com_ans = 0\n",
    "    rectangle_answer = 0\n",
    "    for i in combinations(sides,2):\n",
    "        com_ans = base_enc(list(i))\n",
    "        if com_ans[0]>=1:\n",
    "            rectangle_answer = rectangle_answer + 1\n",
    "\n",
    "        print(qml.drawer.draw(base_enc)(i))\n",
    "    if rectangle_answer == 2 or rectangle_answer == 6:\n",
    "        return 1\n",
    "\n",
    "    return 0\n",
    "\n",
    "\n"
   ]
  },
  {
   "cell_type": "code",
   "execution_count": 51,
   "metadata": {},
   "outputs": [
    {
     "name": "stdout",
     "output_type": "stream",
     "text": [
      "0: ──H──────────────╭●────╭●────╭●────╭●─────H─┤  Probs\n",
      "1: ─╭BasisEmbedding─├SWAP─│─────│─────│────────┤       \n",
      "2: ─├BasisEmbedding─│─────├SWAP─│─────│────────┤       \n",
      "3: ─├BasisEmbedding─│─────│─────├SWAP─│────────┤       \n",
      "4: ─╰BasisEmbedding─│─────│─────│─────├SWAP────┤       \n",
      "5: ─╭BasisEmbedding─╰SWAP─│─────│─────│────────┤       \n",
      "6: ─├BasisEmbedding───────╰SWAP─│─────│────────┤       \n",
      "7: ─├BasisEmbedding─────────────╰SWAP─│────────┤       \n",
      "8: ─╰BasisEmbedding───────────────────╰SWAP────┤       \n",
      "0: ──H──────────────╭●────╭●────╭●────╭●─────H─┤  Probs\n",
      "1: ─╭BasisEmbedding─├SWAP─│─────│─────│────────┤       \n",
      "2: ─├BasisEmbedding─│─────├SWAP─│─────│────────┤       \n",
      "3: ─├BasisEmbedding─│─────│─────├SWAP─│────────┤       \n",
      "4: ─╰BasisEmbedding─│─────│─────│─────├SWAP────┤       \n",
      "5: ─╭BasisEmbedding─╰SWAP─│─────│─────│────────┤       \n",
      "6: ─├BasisEmbedding───────╰SWAP─│─────│────────┤       \n",
      "7: ─├BasisEmbedding─────────────╰SWAP─│────────┤       \n",
      "8: ─╰BasisEmbedding───────────────────╰SWAP────┤       \n",
      "0: ──H──────────────╭●────╭●────╭●────╭●─────H─┤  Probs\n",
      "1: ─╭BasisEmbedding─├SWAP─│─────│─────│────────┤       \n",
      "2: ─├BasisEmbedding─│─────├SWAP─│─────│────────┤       \n",
      "3: ─├BasisEmbedding─│─────│─────├SWAP─│────────┤       \n",
      "4: ─╰BasisEmbedding─│─────│─────│─────├SWAP────┤       \n",
      "5: ─╭BasisEmbedding─╰SWAP─│─────│─────│────────┤       \n",
      "6: ─├BasisEmbedding───────╰SWAP─│─────│────────┤       \n",
      "7: ─├BasisEmbedding─────────────╰SWAP─│────────┤       \n",
      "8: ─╰BasisEmbedding───────────────────╰SWAP────┤       \n",
      "0: ──H──────────────╭●────╭●────╭●────╭●─────H─┤  Probs\n",
      "1: ─╭BasisEmbedding─├SWAP─│─────│─────│────────┤       \n",
      "2: ─├BasisEmbedding─│─────├SWAP─│─────│────────┤       \n",
      "3: ─├BasisEmbedding─│─────│─────├SWAP─│────────┤       \n",
      "4: ─╰BasisEmbedding─│─────│─────│─────├SWAP────┤       \n",
      "5: ─╭BasisEmbedding─╰SWAP─│─────│─────│────────┤       \n",
      "6: ─├BasisEmbedding───────╰SWAP─│─────│────────┤       \n",
      "7: ─├BasisEmbedding─────────────╰SWAP─│────────┤       \n",
      "8: ─╰BasisEmbedding───────────────────╰SWAP────┤       \n",
      "0: ──H──────────────╭●────╭●────╭●────╭●─────H─┤  Probs\n",
      "1: ─╭BasisEmbedding─├SWAP─│─────│─────│────────┤       \n",
      "2: ─├BasisEmbedding─│─────├SWAP─│─────│────────┤       \n",
      "3: ─├BasisEmbedding─│─────│─────├SWAP─│────────┤       \n",
      "4: ─╰BasisEmbedding─│─────│─────│─────├SWAP────┤       \n",
      "5: ─╭BasisEmbedding─╰SWAP─│─────│─────│────────┤       \n",
      "6: ─├BasisEmbedding───────╰SWAP─│─────│────────┤       \n",
      "7: ─├BasisEmbedding─────────────╰SWAP─│────────┤       \n",
      "8: ─╰BasisEmbedding───────────────────╰SWAP────┤       \n",
      "0: ──H──────────────╭●────╭●────╭●────╭●─────H─┤  Probs\n",
      "1: ─╭BasisEmbedding─├SWAP─│─────│─────│────────┤       \n",
      "2: ─├BasisEmbedding─│─────├SWAP─│─────│────────┤       \n",
      "3: ─├BasisEmbedding─│─────│─────├SWAP─│────────┤       \n",
      "4: ─╰BasisEmbedding─│─────│─────│─────├SWAP────┤       \n",
      "5: ─╭BasisEmbedding─╰SWAP─│─────│─────│────────┤       \n",
      "6: ─├BasisEmbedding───────╰SWAP─│─────│────────┤       \n",
      "7: ─├BasisEmbedding─────────────╰SWAP─│────────┤       \n",
      "8: ─╰BasisEmbedding───────────────────╰SWAP────┤       \n"
     ]
    },
    {
     "data": {
      "text/plain": [
       "0"
      ]
     },
     "execution_count": 51,
     "metadata": {},
     "output_type": "execute_result"
    }
   ],
   "source": [
    "is_rectangle([1,12,3,2])"
   ]
  },
  {
   "cell_type": "code",
   "execution_count": null,
   "metadata": {},
   "outputs": [],
   "source": []
  }
 ],
 "metadata": {
  "kernelspec": {
   "display_name": "qc",
   "language": "python",
   "name": "python3"
  },
  "language_info": {
   "codemirror_mode": {
    "name": "ipython",
    "version": 3
   },
   "file_extension": ".py",
   "mimetype": "text/x-python",
   "name": "python",
   "nbconvert_exporter": "python",
   "pygments_lexer": "ipython3",
   "version": "3.9.7"
  },
  "orig_nbformat": 4,
  "vscode": {
   "interpreter": {
    "hash": "3dc53fd84ad5731d04d4fc36beb52296b89dd90b5123e6bc5399b8c2dcae883a"
   }
  }
 },
 "nbformat": 4,
 "nbformat_minor": 2
}
