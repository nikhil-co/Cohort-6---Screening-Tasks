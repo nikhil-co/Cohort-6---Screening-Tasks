{
 "cells": [
  {
   "cell_type": "code",
   "execution_count": 1,
   "metadata": {},
   "outputs": [],
   "source": [
    "import numpy as np\n",
    "import pennylane as qml"
   ]
  },
  {
   "cell_type": "code",
   "execution_count": 12,
   "metadata": {},
   "outputs": [],
   "source": [
    "def find_n(feature:list):\n",
    "    \n",
    "    max_side = np.max(feature)\n",
    "    binary = bin(max_side)[2:]\n",
    "    n = len(binary)\n",
    "\n",
    "    return n\n"
   ]
  },
  {
   "cell_type": "code",
   "execution_count": 131,
   "metadata": {},
   "outputs": [],
   "source": [
    "def is_rectangle(sides:list):\n",
    "    n_qubits = find_n(sides)\n",
    "\n",
    "    dev_basis = qml.device('default.qubit',wires=1+4*n_qubits,shots=100)\n",
    "\n",
    "    wires_a = range(1,n_qubits+1)\n",
    "    wires_b = range(n_qubits+1,2*n_qubits+1)\n",
    "    wires_c = range(2*n_qubits+1,3*n_qubits+1)\n",
    "    wires_d = range(3*n_qubits+1,4*n_qubits+1)\n",
    "\n",
    "    def swap(wires_0,wires_1):\n",
    "        #Comparing a and b - or rather checking if a == b - returns |0> on the ancilla if equal and returns |+>\n",
    "        for i,j in zip(wires_0,wires_1):\n",
    "            qml.ctrl(qml.SWAP([i,j]),control=[0])\n",
    "\n",
    "\n",
    "    @qml.qnode(dev_basis)\n",
    "    def base_enc(feature:list):\n",
    "    \n",
    "        qml.BasisEmbedding(features=feature[0], wires=wires_a)\n",
    "        qml.BasisEmbedding(features=feature[1], wires=wires_b)\n",
    "        qml.BasisEmbedding(features=feature[2], wires=wires_c)\n",
    "        qml.BasisEmbedding(features=feature[3], wires=wires_d)\n",
    "        \n",
    "        qml.Hadamard(0)\n",
    "        swap(wires_a,wires_b)\n",
    "        swap(wires_a,wires_c)\n",
    "        swap(wires_a,wires_d)\n",
    "\n",
    "        swap(wires_b,wires_c)\n",
    "        swap(wires_b,wires_d)\n",
    "\n",
    "        swap(wires_c,wires_d)\n",
    "        \n",
    "        qml.Hadamard(0)\n",
    "        return qml.probs(0)\n",
    "    \n",
    "    print(qml.drawer.draw(base_enc)(sides))\n",
    "\n",
    "    answer = base_enc(sides)\n",
    "    print(answer)\n",
    "    if answer[1]>0:\n",
    "        return 0\n",
    "    return 1\n"
   ]
  },
  {
   "cell_type": "code",
   "execution_count": 134,
   "metadata": {},
   "outputs": [
    {
     "name": "stdout",
     "output_type": "stream",
     "text": [
      " 0: ──H──────────────╭●────╭●────╭●────╭●────╭●────╭●────╭●────╭●────╭●────╭●────╭●────╭●────╭●───\n",
      " 1: ─╭BasisEmbedding─├SWAP─│─────│─────│─────├SWAP─│─────│─────│─────├SWAP─│─────│─────│─────│────\n",
      " 2: ─├BasisEmbedding─│─────├SWAP─│─────│─────│─────├SWAP─│─────│─────│─────├SWAP─│─────│─────│────\n",
      " 3: ─├BasisEmbedding─│─────│─────├SWAP─│─────│─────│─────├SWAP─│─────│─────│─────├SWAP─│─────│────\n",
      " 4: ─╰BasisEmbedding─│─────│─────│─────├SWAP─│─────│─────│─────├SWAP─│─────│─────│─────├SWAP─│────\n",
      " 5: ─╭BasisEmbedding─╰SWAP─│─────│─────│─────│─────│─────│─────│─────│─────│─────│─────│─────├SWAP\n",
      " 6: ─├BasisEmbedding───────╰SWAP─│─────│─────│─────│─────│─────│─────│─────│─────│─────│─────│────\n",
      " 7: ─├BasisEmbedding─────────────╰SWAP─│─────│─────│─────│─────│─────│─────│─────│─────│─────│────\n",
      " 8: ─╰BasisEmbedding───────────────────╰SWAP─│─────│─────│─────│─────│─────│─────│─────│─────│────\n",
      " 9: ─╭BasisEmbedding─────────────────────────╰SWAP─│─────│─────│─────│─────│─────│─────│─────╰SWAP\n",
      "10: ─├BasisEmbedding───────────────────────────────╰SWAP─│─────│─────│─────│─────│─────│──────────\n",
      "11: ─├BasisEmbedding─────────────────────────────────────╰SWAP─│─────│─────│─────│─────│──────────\n",
      "12: ─╰BasisEmbedding───────────────────────────────────────────╰SWAP─│─────│─────│─────│──────────\n",
      "13: ─╭BasisEmbedding─────────────────────────────────────────────────╰SWAP─│─────│─────│──────────\n",
      "14: ─├BasisEmbedding───────────────────────────────────────────────────────╰SWAP─│─────│──────────\n",
      "15: ─├BasisEmbedding─────────────────────────────────────────────────────────────╰SWAP─│──────────\n",
      "16: ─╰BasisEmbedding───────────────────────────────────────────────────────────────────╰SWAP──────\n",
      "\n",
      "──╭●────╭●────╭●────╭●────╭●────╭●────╭●────╭●────╭●────╭●────╭●─────H─┤  Probs\n",
      "──│─────│─────│─────│─────│─────│─────│─────│─────│─────│─────│────────┤       \n",
      "──│─────│─────│─────│─────│─────│─────│─────│─────│─────│─────│────────┤       \n",
      "──│─────│─────│─────│─────│─────│─────│─────│─────│─────│─────│────────┤       \n",
      "──│─────│─────│─────│─────│─────│─────│─────│─────│─────│─────│────────┤       \n",
      "──│─────│─────│─────├SWAP─│─────│─────│─────│─────│─────│─────│────────┤       \n",
      "──├SWAP─│─────│─────│─────├SWAP─│─────│─────│─────│─────│─────│────────┤       \n",
      "──│─────├SWAP─│─────│─────│─────├SWAP─│─────│─────│─────│─────│────────┤       \n",
      "──│─────│─────├SWAP─│─────│─────│─────├SWAP─│─────│─────│─────│────────┤       \n",
      "──│─────│─────│─────│─────│─────│─────│─────├SWAP─│─────│─────│────────┤       \n",
      "──╰SWAP─│─────│─────│─────│─────│─────│─────│─────├SWAP─│─────│────────┤       \n",
      "────────╰SWAP─│─────│─────│─────│─────│─────│─────│─────├SWAP─│────────┤       \n",
      "──────────────╰SWAP─│─────│─────│─────│─────│─────│─────│─────├SWAP────┤       \n",
      "────────────────────╰SWAP─│─────│─────│─────╰SWAP─│─────│─────│────────┤       \n",
      "──────────────────────────╰SWAP─│─────│───────────╰SWAP─│─────│────────┤       \n",
      "────────────────────────────────╰SWAP─│─────────────────╰SWAP─│────────┤       \n",
      "──────────────────────────────────────╰SWAP───────────────────╰SWAP────┤       \n",
      "[0.52 0.48]\n"
     ]
    },
    {
     "data": {
      "text/plain": [
       "0"
      ]
     },
     "execution_count": 134,
     "metadata": {},
     "output_type": "execute_result"
    }
   ],
   "source": [
    "is_rectangle([8,8,3,3])"
   ]
  },
  {
   "cell_type": "code",
   "execution_count": 67,
   "metadata": {},
   "outputs": [
    {
     "data": {
      "text/plain": [
       "'10101'"
      ]
     },
     "execution_count": 67,
     "metadata": {},
     "output_type": "execute_result"
    }
   ],
   "source": [
    "bin(21)[2:]"
   ]
  },
  {
   "cell_type": "code",
   "execution_count": 101,
   "metadata": {},
   "outputs": [],
   "source": [
    "def is_rectangle_test(sides:list):\n",
    "    n_qubits = find_n(sides)\n",
    "\n",
    "    dev_basis = qml.device('default.qubit',wires=1+4*n_qubits,shots=100)\n",
    "\n",
    "    wires_a = range(1,n_qubits+1)\n",
    "    wires_b = range(n_qubits+1,2*n_qubits+1)\n",
    "    wires_c = range(2*n_qubits+1,3*n_qubits+1)\n",
    "    wires_d = range(3*n_qubits+1,4*n_qubits+1)\n",
    "\n",
    "    def swap(wires_0,wires_1):\n",
    "        #Comparing a and b - or rather checking if a == b - returns |0> on the ancilla if equal and returns |+>\n",
    "        for i,j in zip(wires_0,wires_1):\n",
    "            qml.ctrl(qml.SWAP([i,j]),control=[0])\n",
    "\n",
    "\n",
    "    @qml.qnode(dev_basis)\n",
    "    def base_enc(feature:list):\n",
    "    \n",
    "        qml.BasisEmbedding(features=feature[0], wires=wires_a)\n",
    "        qml.BasisEmbedding(features=feature[1], wires=wires_b)\n",
    "        qml.BasisEmbedding(features=feature[2], wires=wires_c)\n",
    "\n",
    "        qml.Hadamard(0)\n",
    "\n",
    "        swap(wires_a,wires_b)\n",
    "\n",
    "        swap(wires_a,wires_c)\n",
    "\n",
    "        qml.Hadamard(0)\n",
    "\n",
    "        return qml.probs(0)\n",
    "    \n",
    "    print(qml.drawer.draw(base_enc)(sides))\n",
    "\n",
    "    answer = base_enc(sides)\n",
    "    print(answer)\n",
    "    if answer[1]==0:\n",
    "        return 1\n",
    "    return 0 \n"
   ]
  },
  {
   "cell_type": "code",
   "execution_count": 102,
   "metadata": {},
   "outputs": [
    {
     "name": "stdout",
     "output_type": "stream",
     "text": [
      " 0: ──H──────────────╭●────╭●────╭●────╭●────╭●────╭●────╭●────╭●────╭●────╭●─────H─┤  Probs\n",
      " 1: ─╭BasisEmbedding─├SWAP─│─────│─────│─────│─────├SWAP─│─────│─────│─────│────────┤       \n",
      " 2: ─├BasisEmbedding─│─────├SWAP─│─────│─────│─────│─────├SWAP─│─────│─────│────────┤       \n",
      " 3: ─├BasisEmbedding─│─────│─────├SWAP─│─────│─────│─────│─────├SWAP─│─────│────────┤       \n",
      " 4: ─├BasisEmbedding─│─────│─────│─────├SWAP─│─────│─────│─────│─────├SWAP─│────────┤       \n",
      " 5: ─╰BasisEmbedding─│─────│─────│─────│─────├SWAP─│─────│─────│─────│─────├SWAP────┤       \n",
      " 6: ─╭BasisEmbedding─╰SWAP─│─────│─────│─────│─────│─────│─────│─────│─────│────────┤       \n",
      " 7: ─├BasisEmbedding───────╰SWAP─│─────│─────│─────│─────│─────│─────│─────│────────┤       \n",
      " 8: ─├BasisEmbedding─────────────╰SWAP─│─────│─────│─────│─────│─────│─────│────────┤       \n",
      " 9: ─├BasisEmbedding───────────────────╰SWAP─│─────│─────│─────│─────│─────│────────┤       \n",
      "10: ─╰BasisEmbedding─────────────────────────╰SWAP─│─────│─────│─────│─────│────────┤       \n",
      "11: ─╭BasisEmbedding───────────────────────────────╰SWAP─│─────│─────│─────│────────┤       \n",
      "12: ─├BasisEmbedding─────────────────────────────────────╰SWAP─│─────│─────│────────┤       \n",
      "13: ─├BasisEmbedding───────────────────────────────────────────╰SWAP─│─────│────────┤       \n",
      "14: ─├BasisEmbedding─────────────────────────────────────────────────╰SWAP─│────────┤       \n",
      "15: ─╰BasisEmbedding───────────────────────────────────────────────────────╰SWAP────┤       \n",
      "[0.48 0.52]\n"
     ]
    },
    {
     "data": {
      "text/plain": [
       "0"
      ]
     },
     "execution_count": 102,
     "metadata": {},
     "output_type": "execute_result"
    }
   ],
   "source": [
    "is_rectangle_test([21,21,1])"
   ]
  },
  {
   "cell_type": "code",
   "execution_count": 89,
   "metadata": {},
   "outputs": [
    {
     "data": {
      "text/plain": [
       "'10101'"
      ]
     },
     "execution_count": 89,
     "metadata": {},
     "output_type": "execute_result"
    }
   ],
   "source": [
    "bin(21)[2:]"
   ]
  },
  {
   "cell_type": "code",
   "execution_count": null,
   "metadata": {},
   "outputs": [],
   "source": []
  }
 ],
 "metadata": {
  "kernelspec": {
   "display_name": "qc",
   "language": "python",
   "name": "python3"
  },
  "language_info": {
   "codemirror_mode": {
    "name": "ipython",
    "version": 3
   },
   "file_extension": ".py",
   "mimetype": "text/x-python",
   "name": "python",
   "nbconvert_exporter": "python",
   "pygments_lexer": "ipython3",
   "version": "3.9.7"
  },
  "orig_nbformat": 4,
  "vscode": {
   "interpreter": {
    "hash": "3dc53fd84ad5731d04d4fc36beb52296b89dd90b5123e6bc5399b8c2dcae883a"
   }
  }
 },
 "nbformat": 4,
 "nbformat_minor": 2
}
