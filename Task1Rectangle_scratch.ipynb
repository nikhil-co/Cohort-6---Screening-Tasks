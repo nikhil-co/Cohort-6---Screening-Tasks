{
 "cells": [
  {
   "cell_type": "code",
   "execution_count": 1,
   "metadata": {},
   "outputs": [],
   "source": [
    "import pennylane as qml\n",
    "import numpy as np"
   ]
  },
  {
   "attachments": {},
   "cell_type": "markdown",
   "metadata": {},
   "source": [
    "##### SWAP Test Demo "
   ]
  },
  {
   "cell_type": "code",
   "execution_count": 114,
   "metadata": {},
   "outputs": [
    {
     "data": {
      "text/plain": [
       "tensor([1., 0.], requires_grad=True)"
      ]
     },
     "execution_count": 114,
     "metadata": {},
     "output_type": "execute_result"
    }
   ],
   "source": [
    "\n",
    "dev = qml.device('default.qubit',wires=3,shots=1000)\n",
    "\n",
    "@qml.qnode(dev)\n",
    "def circuit():\n",
    "    qml.PauliY(1)\n",
    "    qml.PauliY(2)\n",
    "    qml.Hadamard(0)\n",
    "    qml.ctrl(qml.SWAP([1,2]),control=[0])\n",
    "    qml.Hadamard(0)\n",
    "    return qml.probs(0)\n",
    "circuit()"
   ]
  },
  {
   "attachments": {},
   "cell_type": "markdown",
   "metadata": {},
   "source": [
    "##### Amplitude Embedding demo"
   ]
  },
  {
   "cell_type": "code",
   "execution_count": 21,
   "metadata": {},
   "outputs": [
    {
     "name": "stdout",
     "output_type": "stream",
     "text": [
      "Embedding [5 5 6 6] as [0.45267873 0.45267873 0.54321448 0.54321448] \n",
      "Result after embedding [0.45267873+0.j 0.45267873+0.j 0.54321448+0.j 0.54321448+0.j]\n"
     ]
    }
   ],
   "source": [
    "dev_amp = qml.device('default.qubit',wires=2)\n",
    "\n",
    "feature = np.array([5,5,6,6])\n",
    "norm = np.linalg.norm(feature)\n",
    "\n",
    "feature_norm = feature/norm\n",
    "\n",
    "@qml.qnode(dev_amp)\n",
    "def amp_circuit(feature:list):\n",
    "    qml.AmplitudeEmbedding(feature,wires=range(2),normalize=True)\n",
    "    return qml.state()\n",
    "\n",
    "print('Embedding',feature,'as',feature_norm,'\\nResult after embedding',amp_circuit([5,5,6,6]))\n"
   ]
  },
  {
   "attachments": {},
   "cell_type": "markdown",
   "metadata": {},
   "source": [
    "##### Using SWAP test with Ampiltude Embedding  "
   ]
  },
  {
   "cell_type": "code",
   "execution_count": 71,
   "metadata": {},
   "outputs": [],
   "source": [
    "dev_test = qml.device('default.qubit',wires=3,shots=10000)\n",
    "\n",
    "@qml.qnode(dev_test)\n",
    "def rectangle(feature:list):\n",
    "    feature = np.sort(feature)\n",
    "    \n",
    "    qml.AmplitudeEmbedding(feature,wires=[1,2],normalize=True)\n",
    "    \n",
    "    qml.Hadamard(0)\n",
    "    qml.ctrl(qml.SWAP([1,2]),control=[0])\n",
    "    qml.Hadamard(0)\n",
    "    return qml.probs(0)"
   ]
  },
  {
   "cell_type": "code",
   "execution_count": 101,
   "metadata": {},
   "outputs": [
    {
     "data": {
      "text/plain": [
       "tensor([0.896, 0.104], requires_grad=True)"
      ]
     },
     "execution_count": 101,
     "metadata": {},
     "output_type": "execute_result"
    }
   ],
   "source": [
    "\n",
    "rectangle([2,6,2,6])"
   ]
  },
  {
   "attachments": {},
   "cell_type": "markdown",
   "metadata": {},
   "source": [
    "Doesn't work Amplitude embedding encode 2**n numbers in qubits but using SWAP test we can only compare 2 Qubits. Here we have 4 numbers that is 2 qubits. We can only compare two qubits but comparing the qubits does not give the correct result  "
   ]
  },
  {
   "attachments": {},
   "cell_type": "markdown",
   "metadata": {},
   "source": [
    "#### Testing Basis Encondig"
   ]
  },
  {
   "cell_type": "code",
   "execution_count": 178,
   "metadata": {},
   "outputs": [
    {
     "data": {
      "text/plain": [
       "tensor([0.5, 0.5], requires_grad=True)"
      ]
     },
     "execution_count": 178,
     "metadata": {},
     "output_type": "execute_result"
    }
   ],
   "source": [
    "dev_basis = qml.device('default.qubit',wires=1+8,shots=1000)\n",
    "\n",
    "@qml.qnode(dev_basis)\n",
    "def base_enc(feature:list):\n",
    "    qml.BasisEmbedding(features=feature[0], wires=wires_a)\n",
    "    qml.BasisEmbedding(features=feature[1], wires=wires_b)\n",
    "    \n",
    "    qml.Hadamard(0)\n",
    "    for i in range(1,5):\n",
    "        qml.ctrl(qml.SWAP([i,i+4]),control=[0])\n",
    "    qml.Hadamard(0)\n",
    "    return qml.probs(0)\n",
    "\n",
    "base_enc([3,2])"
   ]
  },
  {
   "attachments": {},
   "cell_type": "markdown",
   "metadata": {},
   "source": [
    "a,b,c,d - four numbers\n",
    "case - 1\n",
    "ab 1 \n",
    "ac\n",
    "ad\n",
    "\n",
    "bc\n",
    "bd\n",
    "\n",
    "cd 1\n",
    "\n",
    "case - 2\n",
    "ab  \n",
    "ac 1\n",
    "ad\n",
    "\n",
    "bc\n",
    "bd 1 \n",
    "\n",
    "cd \n",
    "\n",
    "if they were sorted then we only need 2 checks in any case\n",
    "but if the list is not sorted we need to 6 checks in the worst case\n"
   ]
  },
  {
   "cell_type": "code",
   "execution_count": 240,
   "metadata": {},
   "outputs": [],
   "source": [
    "dev_basis = qml.device('default.qubit',wires=1+16,shots=1000)\n",
    "\n",
    "wires_a = range(1,5)\n",
    "wires_b = range(5,9)\n",
    "wires_c = range(9,13)\n",
    "wires_d = range(13,17)\n",
    "\n",
    "def swap(wires_0,wires_1):\n",
    "    #Comparing a and b - or rather checking if a == b - returns |0> on the ancilla if equal and returns |+>\n",
    "    for i,j in zip(wires_0,wires_1):\n",
    "        qml.ctrl(qml.SWAP([i,j]),control=[0])\n",
    "\n",
    "\n",
    "@qml.qnode(dev_basis)\n",
    "def base_enc(feature:list):\n",
    "  \n",
    "    qml.BasisEmbedding(features=feature[0], wires=wires_a)\n",
    "    qml.BasisEmbedding(features=feature[1], wires=wires_b)\n",
    "    qml.BasisEmbedding(features=feature[2], wires=wires_c)\n",
    "    qml.BasisEmbedding(features=feature[3], wires=wires_d)\n",
    "    \n",
    "    qml.Hadamard(0)\n",
    "\n",
    "    swap(wires_a,wires_b)\n",
    "    swap(wires_a,wires_c)\n",
    "    swap(wires_a,wires_d)\n",
    "\n",
    "    swap(wires_b,wires_c)\n",
    "    swap(wires_b,wires_d)\n",
    "\n",
    "    swap(wires_c,wires_d)\n",
    "    \n",
    "    qml.Hadamard(0)\n",
    "\n",
    "    \n",
    "    return qml.probs(0)\n"
   ]
  },
  {
   "cell_type": "code",
   "execution_count": 11,
   "metadata": {},
   "outputs": [],
   "source": [
    "\n",
    "def is_rectangle(sides:list):\n",
    "    prob = base_enc(sides)\n",
    "\n",
    "    print(qml.drawer.draw(base_enc)(sides))\n",
    "\n",
    "    if prob[1] > 0:\n",
    "        print(prob)\n",
    "        return 0\n",
    "    return 1\n",
    "\n"
   ]
  },
  {
   "cell_type": "code",
   "execution_count": 14,
   "metadata": {},
   "outputs": [
    {
     "name": "stdout",
     "output_type": "stream",
     "text": [
      " 0: ──H──────────────╭●────╭●────╭●────╭●────╭●────╭●────╭●────╭●────╭●────╭●────╭●────╭●────╭●───\n",
      " 1: ─╭BasisEmbedding─├SWAP─│─────│─────│─────├SWAP─│─────│─────│─────├SWAP─│─────│─────│─────│────\n",
      " 2: ─├BasisEmbedding─│─────├SWAP─│─────│─────│─────├SWAP─│─────│─────│─────├SWAP─│─────│─────│────\n",
      " 3: ─├BasisEmbedding─│─────│─────├SWAP─│─────│─────│─────├SWAP─│─────│─────│─────├SWAP─│─────│────\n",
      " 4: ─╰BasisEmbedding─│─────│─────│─────├SWAP─│─────│─────│─────├SWAP─│─────│─────│─────├SWAP─│────\n",
      " 5: ─╭BasisEmbedding─╰SWAP─│─────│─────│─────│─────│─────│─────│─────│─────│─────│─────│─────├SWAP\n",
      " 6: ─├BasisEmbedding───────╰SWAP─│─────│─────│─────│─────│─────│─────│─────│─────│─────│─────│────\n",
      " 7: ─├BasisEmbedding─────────────╰SWAP─│─────│─────│─────│─────│─────│─────│─────│─────│─────│────\n",
      " 8: ─╰BasisEmbedding───────────────────╰SWAP─│─────│─────│─────│─────│─────│─────│─────│─────│────\n",
      " 9: ─╭BasisEmbedding─────────────────────────╰SWAP─│─────│─────│─────│─────│─────│─────│─────╰SWAP\n",
      "10: ─├BasisEmbedding───────────────────────────────╰SWAP─│─────│─────│─────│─────│─────│──────────\n",
      "11: ─├BasisEmbedding─────────────────────────────────────╰SWAP─│─────│─────│─────│─────│──────────\n",
      "12: ─╰BasisEmbedding───────────────────────────────────────────╰SWAP─│─────│─────│─────│──────────\n",
      "13: ─╭BasisEmbedding─────────────────────────────────────────────────╰SWAP─│─────│─────│──────────\n",
      "14: ─├BasisEmbedding───────────────────────────────────────────────────────╰SWAP─│─────│──────────\n",
      "15: ─├BasisEmbedding─────────────────────────────────────────────────────────────╰SWAP─│──────────\n",
      "16: ─╰BasisEmbedding───────────────────────────────────────────────────────────────────╰SWAP──────\n",
      "\n",
      "──╭●────╭●────╭●────╭●────╭●────╭●────╭●────╭●────╭●────╭●────╭●─────H─┤  Probs\n",
      "──│─────│─────│─────│─────│─────│─────│─────│─────│─────│─────│────────┤       \n",
      "──│─────│─────│─────│─────│─────│─────│─────│─────│─────│─────│────────┤       \n",
      "──│─────│─────│─────│─────│─────│─────│─────│─────│─────│─────│────────┤       \n",
      "──│─────│─────│─────│─────│─────│─────│─────│─────│─────│─────│────────┤       \n",
      "──│─────│─────│─────├SWAP─│─────│─────│─────│─────│─────│─────│────────┤       \n",
      "──├SWAP─│─────│─────│─────├SWAP─│─────│─────│─────│─────│─────│────────┤       \n",
      "──│─────├SWAP─│─────│─────│─────├SWAP─│─────│─────│─────│─────│────────┤       \n",
      "──│─────│─────├SWAP─│─────│─────│─────├SWAP─│─────│─────│─────│────────┤       \n",
      "──│─────│─────│─────│─────│─────│─────│─────├SWAP─│─────│─────│────────┤       \n",
      "──╰SWAP─│─────│─────│─────│─────│─────│─────│─────├SWAP─│─────│────────┤       \n",
      "────────╰SWAP─│─────│─────│─────│─────│─────│─────│─────├SWAP─│────────┤       \n",
      "──────────────╰SWAP─│─────│─────│─────│─────│─────│─────│─────├SWAP────┤       \n",
      "────────────────────╰SWAP─│─────│─────│─────╰SWAP─│─────│─────│────────┤       \n",
      "──────────────────────────╰SWAP─│─────│───────────╰SWAP─│─────│────────┤       \n",
      "────────────────────────────────╰SWAP─│─────────────────╰SWAP─│────────┤       \n",
      "──────────────────────────────────────╰SWAP───────────────────╰SWAP────┤       \n",
      "[0.49 0.51]\n"
     ]
    },
    {
     "data": {
      "text/plain": [
       "0"
      ]
     },
     "execution_count": 14,
     "metadata": {},
     "output_type": "execute_result"
    }
   ],
   "source": [
    "is_rectangle([3,3,2,2])"
   ]
  },
  {
   "cell_type": "code",
   "execution_count": null,
   "metadata": {},
   "outputs": [],
   "source": []
  }
 ],
 "metadata": {
  "kernelspec": {
   "display_name": "qc",
   "language": "python",
   "name": "python3"
  },
  "language_info": {
   "codemirror_mode": {
    "name": "ipython",
    "version": 3
   },
   "file_extension": ".py",
   "mimetype": "text/x-python",
   "name": "python",
   "nbconvert_exporter": "python",
   "pygments_lexer": "ipython3",
   "version": "3.9.7"
  },
  "orig_nbformat": 4,
  "vscode": {
   "interpreter": {
    "hash": "3dc53fd84ad5731d04d4fc36beb52296b89dd90b5123e6bc5399b8c2dcae883a"
   }
  }
 },
 "nbformat": 4,
 "nbformat_minor": 2
}
