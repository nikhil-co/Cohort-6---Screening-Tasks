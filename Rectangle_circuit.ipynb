{
 "cells": [
  {
   "attachments": {},
   "cell_type": "markdown",
   "metadata": {},
   "source": [
    "## Task 2 - Is Rectangle?"
   ]
  },
  {
   "attachments": {},
   "cell_type": "markdown",
   "metadata": {},
   "source": [
    "### Task - Given four positive integers, determine if these four intergers taken as length of sides would form a rectangle."
   ]
  },
  {
   "attachments": {},
   "cell_type": "markdown",
   "metadata": {},
   "source": [
    "Solution - Sides of rectangle have a property that parallel sides are equal in length. So for four arbitary intergers to form a rectangle two integers have to be equal to the remaining integers or they could all be euqal forming a square but that is also a case of a rectangle. \n",
    "\n",
    "Let the four positive integers be [a,b,c,d]. And \n",
    "$$f(x,y) =\n",
    "  \\begin{cases}\n",
    "    1       & \\quad \\text{if } x=y \\\\\n",
    "    0  & \\quad \\text{if } x\\neq y \n",
    "  \\end{cases}\n",
    "$$  \n",
    "be a equality check between x and y returning 0 is not equal and 1 if equal. We have 4 cases where the four numbers could form a rectangle. The cases are -\n",
    "\n",
    "1. $a=b \\text{ and } c=d$\n",
    "\n",
    "2. $a=c \\text{ and } b=d$\n",
    "\n",
    "3. $a=d \\text{ and } b=d$\n",
    "\n",
    "4. $a=b=c=d$\n",
    "\n",
    "We need to check for these cases, we have 6 equalities we have to check for, 6 comes from ${4 \\choose 2}$. We can write the above cases in the form of product of equality checks -\n",
    "\n",
    "1. $f(a,b)*f(c,d)$\n",
    "\n",
    "2. $f(a,c)*f(b,d)$\n",
    "\n",
    "3. $f(a,d)*f(b,c)$\n",
    "\n",
    "\n",
    "Important to note that satisfying one of the checks corresponds to a rectangle.We need not check for the 4th case explicitly as we will have all the three checks to be 1 in the case of a square. \n",
    "\n"
   ]
  },
  {
   "attachments": {},
   "cell_type": "markdown",
   "metadata": {},
   "source": [
    "#### Checking for equality using SWAP test\n",
    "\n",
    "SWAP test is used to determine the overlap(inner product) between two qubits. Generally the inner product lies beetween 0 and 1, but in our case it is only 0 or 1. The circuit for a SWAP test between two qubits is as follows - "
   ]
  },
  {
   "cell_type": "code",
   "execution_count": 25,
   "metadata": {},
   "outputs": [
    {
     "name": "stdout",
     "output_type": "stream",
     "text": [
      "0: ──H─╭●─────H─┤  Probs\n",
      "1: ────├SWAP────┤       \n",
      "2: ────╰SWAP────┤        \n",
      " Probabilites of the 0th qubit [1. 0.]\n"
     ]
    }
   ],
   "source": [
    "import pennylane as qml\n",
    "\n",
    "dev_swap = qml.device('default.qubit',wires=3)\n",
    "@qml.qnode(dev_swap)\n",
    "def swap_circ():\n",
    "\n",
    "    qml.Hadamard(0)\n",
    "    qml.ctrl(qml.SWAP([1,2]),control=0)\n",
    "    qml.Hadamard(0)\n",
    "\n",
    "    return qml.probs(0)\n",
    "print(qml.draw(swap_circ)(),'\\n Probabilites of the 0th qubit',swap_circ())"
   ]
  },
  {
   "attachments": {},
   "cell_type": "markdown",
   "metadata": {},
   "source": [
    "From simple mathematics we can figure out the probability of $\\ket{0}$ on the first qubits - $P(\\ket{0}) = \\frac{1}{2} + \\frac{1}{2}|{\\langle \\psi \\; , \\;\\phi \\rangle}|^{2}$ . Here $\\psi$ and $\\phi$ are states that we want to compare. We can see from the above output the inner product if 1 as the probability of $\\ket{0}$ is 1 because both states are $\\ket{0}$. For our case the qubits will only be $\\ket{0}$ or $\\ket{1}$. This is because we use basis encoding to encode our intergers into the quantum circuit. Basis encoding encodes an interger $p$ into N qubits where $p\\le 2^N -1$.  "
   ]
  },
  {
   "attachments": {},
   "cell_type": "markdown",
   "metadata": {},
   "source": [
    "#### SWAP test for N qubits states \n",
    "\n",
    "We used SWAP test on single qubits states but we can also use it in N qubit states, given that the input states are $\\ket{x_1,x_2...x_N}$ where $x_i=0 \\text{ or } 1$. If we have input states $\\ket{x}=\\ket{x_1,x_2,...x_N}$ and $\\ket{y}=\\ket{y_1,y_2,...x_N}$ where $x$ and $y$ are the integer representation of the input states. So, to demonstrate this I will go through the each step in N qubit SWAP test. \n"
   ]
  },
  {
   "attachments": {},
   "cell_type": "markdown",
   "metadata": {},
   "source": [
    "\n",
    "Starting with quantum state  $\\ket{0}\\ket{x}\\ket{y}$\n",
    "1. Applying Hadmard to the 1st qubit \n",
    "\n",
    "$$(\\frac{\\ket{0}+\\ket{1}}{\\sqrt{2}})\\ket{x}\\ket{y}$$\n",
    "\n",
    "2. Applying control SWAP gate to each of the qubit in $\\ket{x}$ and $\\ket{y}$\n",
    "\n",
    "Sub-step 1 - Applying Control SWAP on 1st qubit\n",
    "\n",
    "$$ \\frac{\\ket{0}\\ket{x}\\ket{y}+\\ket{1}\\ket{y_1,x_2,...x_N}\\ket{x_1,y_2,...y_N}}{\\sqrt{2}}$$\n",
    "\n",
    "Sub-step i  - Applying Control SWAP on ith qubit\n",
    "\n",
    "$$ \\frac{\\ket{0}\\ket{x}\\ket{y}+\\ket{1}\\ket{y_1,y_2,.,y_i,..x_N}\\ket{x_1,x_2,.,x_i,..y_N}}{\\sqrt{2}}$$\n",
    "\n",
    "\n",
    "We keep this going till the Nth qubit.Sub-step N - Applying Control SWAP on Nth qubit.\n",
    "\n",
    "$$ \\frac{\\ket{0}\\ket{x}\\ket{y}+\\ket{1}\\ket{y}\\ket{x}}{\\sqrt{2}}$$\n",
    "\n",
    "3. Applying Hadmard to the 1st qubit.\n",
    "\n",
    "Now if the $\\ket{x}$ and $\\ket{y}$ are equal then the Hadamrd will collapse the first qubit to $\\ket{0}$ otherwise it will stay in $\\ket{+}$.\n",
    "\n",
    "$$H_0(\\frac{\\ket{0}\\ket{x}\\ket{y}+\\ket{1}\\ket{y}\\ket{x}}{\\sqrt{2}}) =\n",
    "  \\begin{cases}\n",
    "    \\ket{0}\\ket{x}\\ket{y}      & \\quad \\text{if } x=y \\\\\n",
    "    \\frac{\\ket{0}\\ket{x}\\ket{y} + \\ket{1}\\ket{x}\\ket{y} + \\ket{0}\\ket{y}\\ket{x} - \\ket{1}\\ket{y}\\ket{x}}{2}  & \\quad \\text{if } x\\neq y \n",
    "  \\end{cases}\n",
    "$$  \n",
    "\n",
    "So its clear that the probability for $\\ket{0}$ will be 1 for $x=y$ and $\\frac{1}{2}$ for $x\\neq y$."
   ]
  },
  {
   "attachments": {},
   "cell_type": "markdown",
   "metadata": {},
   "source": [
    "We can also chain this with other N qubits states. We can input 4 integers and compare a pairs of integers. \\\n",
    "For eg. If we input $[a,b,c,d]$ then we can compare let's say $f(a,c)$ and $f(b,d)$ which is one of the checks from above, and now if we measure the probability through P trials then the probability of $\\ket{0}$ and we get $0$ then it means that $a=c \\text{ and } b=d$ and the input forms a rectangle. "
   ]
  },
  {
   "cell_type": "code",
   "execution_count": 24,
   "metadata": {},
   "outputs": [],
   "source": [
    "import numpy as np\n",
    "def find_n(feature:list)-> int: #Given a list returns N (the number of qubits required to represent the largest number in the list) \n",
    "    max_side = np.max(feature)\n",
    "    binary = bin(max_side)[2:]\n",
    "    return len(binary)"
   ]
  },
  {
   "cell_type": "code",
   "execution_count": 8,
   "metadata": {},
   "outputs": [],
   "source": [
    "def is_rectangle(sides:list):\n",
    "    #Defining number of qubits required to represent the largest number in the list \n",
    "    n_qubits = find_n(sides)\n",
    "    \n",
    "    #Defining measurement qubits\n",
    "    measurement_qubits = range(3)\n",
    "    n_measure = len(measurement_qubits)\n",
    "\n",
    "    n_qubits_circ = n_measure+4*n_qubits\n",
    "\n",
    "    dev_basis = qml.device('default.qubit',wires=n_qubits_circ+1,shots=100)\n",
    "\n",
    "    #Defining the wire ranges for all our inputs\n",
    "    wires_a = range(n_measure,n_qubits+n_measure)\n",
    "    wires_b = range(n_qubits+n_measure,2*n_qubits+n_measure)\n",
    "    wires_c = range(2*n_qubits+n_measure,3*n_qubits+n_measure)\n",
    "    wires_d = range(3*n_qubits+n_measure,4*n_qubits+n_measure)\n",
    "\n",
    "    # This is the SWAP operation which checks for equality\n",
    "    def swap(wires_0,wires_1,control:int):\n",
    "        #Comparing a and b - or rather checking if a == b - returns |0> on the ancilla if equal and returns |+>\n",
    "        for i,j in zip(wires_0,wires_1):\n",
    "            qml.ctrl(qml.SWAP([i,j]),control=control)\n",
    "\n",
    "    @qml.qnode(dev_basis)\n",
    "    def base_enc(feature:list):\n",
    "        \n",
    "        #Encoding our inputs into the circuit\n",
    "        qml.BasisEmbedding(features=feature[0], wires=wires_a)\n",
    "        qml.BasisEmbedding(features=feature[1], wires=wires_b)\n",
    "        qml.BasisEmbedding(features=feature[2], wires=wires_c)\n",
    "        qml.BasisEmbedding(features=feature[3], wires=wires_d)\n",
    "        \n",
    "        #SWAP test for the 1st case\n",
    "        qml.Hadamard(measurement_qubits[0])\n",
    "        swap(wires_a,wires_b,measurement_qubits[0])\n",
    "        swap(wires_c,wires_d,measurement_qubits[0])\n",
    "        qml.Hadamard(measurement_qubits[0])\n",
    "\n",
    "        #SWAP test for the 2nd case\n",
    "        qml.Hadamard(measurement_qubits[1])\n",
    "        swap(wires_a,wires_c,measurement_qubits[1])\n",
    "        swap(wires_b,wires_d,measurement_qubits[1])\n",
    "        qml.Hadamard(measurement_qubits[1])\n",
    "\n",
    "        #SWAP test for the 3rd case\n",
    "        qml.Hadamard(measurement_qubits[2])\n",
    "        swap(wires_a,wires_d,measurement_qubits[2])\n",
    "        swap(wires_b,wires_c,measurement_qubits[2])\n",
    "        qml.Hadamard(measurement_qubits[2])\n",
    "\n",
    "        return qml.probs(measurement_qubits[0]),qml.probs(measurement_qubits[1]),qml.probs(measurement_qubits[2])\n",
    "    \n",
    "\n",
    "    #Priniting the circuit\n",
    "    print(qml.drawer.draw(base_enc,max_length=120)(sides))\n",
    "\n",
    "    #Storing the probabilities of the measurement qubits \n",
    "    circ_result = base_enc(sides)\n",
    "    \n",
    "    #Variable to Infer the result of the circuit \n",
    "    rectangle = 0\n",
    "\n",
    "    \n",
    "    for i,j in enumerate(circ_result):\n",
    "        if  j[0]==1:\n",
    "            rectangle = rectangle + 1\n",
    "            \n",
    "    if rectangle == 3 or rectangle == 1:\n",
    "        return 1\n",
    "    return 0\n",
    "\n"
   ]
  },
  {
   "cell_type": "code",
   "execution_count": 35,
   "metadata": {},
   "outputs": [
    {
     "name": "stdout",
     "output_type": "stream",
     "text": [
      " 0: ──H──────────────╭●────╭●────╭●────╭●────╭●────╭●─────H─────────────────────────────────────────────────────────\n",
      " 1: ─────────────────│─────│─────│─────│─────│─────│──────H─╭●────╭●────╭●────╭●────╭●────╭●─────H──────────────────\n",
      " 2: ─────────────────│─────│─────│─────│─────│─────│────────│─────│─────│─────│─────│─────│──────H─╭●────╭●────╭●───\n",
      " 3: ─╭BasisEmbedding─├SWAP─│─────│─────│─────│─────│────────├SWAP─│─────│─────│─────│─────│────────├SWAP─│─────│────\n",
      " 4: ─├BasisEmbedding─│─────├SWAP─│─────│─────│─────│────────│─────├SWAP─│─────│─────│─────│────────│─────├SWAP─│────\n",
      " 5: ─╰BasisEmbedding─│─────│─────├SWAP─│─────│─────│────────│─────│─────├SWAP─│─────│─────│────────│─────│─────├SWAP\n",
      " 6: ─╭BasisEmbedding─╰SWAP─│─────│─────│─────│─────│────────│─────│─────│─────├SWAP─│─────│────────│─────│─────│────\n",
      " 7: ─├BasisEmbedding───────╰SWAP─│─────│─────│─────│────────│─────│─────│─────│─────├SWAP─│────────│─────│─────│────\n",
      " 8: ─╰BasisEmbedding─────────────╰SWAP─│─────│─────│────────│─────│─────│─────│─────│─────├SWAP────│─────│─────│────\n",
      " 9: ─╭BasisEmbedding───────────────────├SWAP─│─────│────────╰SWAP─│─────│─────│─────│─────│────────│─────│─────│────\n",
      "10: ─├BasisEmbedding───────────────────│─────├SWAP─│──────────────╰SWAP─│─────│─────│─────│────────│─────│─────│────\n",
      "11: ─╰BasisEmbedding───────────────────│─────│─────├SWAP────────────────╰SWAP─│─────│─────│────────│─────│─────│────\n",
      "12: ─╭BasisEmbedding───────────────────╰SWAP─│─────│──────────────────────────╰SWAP─│─────│────────╰SWAP─│─────│────\n",
      "13: ─├BasisEmbedding─────────────────────────╰SWAP─│────────────────────────────────╰SWAP─│──────────────╰SWAP─│────\n",
      "14: ─╰BasisEmbedding───────────────────────────────╰SWAP──────────────────────────────────╰SWAP────────────────╰SWAP\n",
      "\n",
      "───────────────────────┤  Probs\n",
      "───────────────────────┤  Probs\n",
      "──╭●────╭●────╭●─────H─┤  Probs\n",
      "──│─────│─────│────────┤       \n",
      "──│─────│─────│────────┤       \n",
      "──│─────│─────│────────┤       \n",
      "──├SWAP─│─────│────────┤       \n",
      "──│─────├SWAP─│────────┤       \n",
      "──│─────│─────├SWAP────┤       \n",
      "──╰SWAP─│─────│────────┤       \n",
      "────────╰SWAP─│────────┤       \n",
      "──────────────╰SWAP────┤       \n",
      "───────────────────────┤       \n",
      "───────────────────────┤       \n",
      "───────────────────────┤       \n"
     ]
    },
    {
     "data": {
      "text/plain": [
       "0"
      ]
     },
     "execution_count": 35,
     "metadata": {},
     "output_type": "execute_result"
    }
   ],
   "source": [
    "\n",
    "is_rectangle([6,3,3,5])"
   ]
  },
  {
   "cell_type": "code",
   "execution_count": null,
   "metadata": {},
   "outputs": [],
   "source": []
  },
  {
   "cell_type": "code",
   "execution_count": null,
   "metadata": {},
   "outputs": [],
   "source": []
  }
 ],
 "metadata": {
  "kernelspec": {
   "display_name": "qc",
   "language": "python",
   "name": "python3"
  },
  "language_info": {
   "codemirror_mode": {
    "name": "ipython",
    "version": 3
   },
   "file_extension": ".py",
   "mimetype": "text/x-python",
   "name": "python",
   "nbconvert_exporter": "python",
   "pygments_lexer": "ipython3",
   "version": "3.9.7"
  },
  "orig_nbformat": 4,
  "vscode": {
   "interpreter": {
    "hash": "3dc53fd84ad5731d04d4fc36beb52296b89dd90b5123e6bc5399b8c2dcae883a"
   }
  }
 },
 "nbformat": 4,
 "nbformat_minor": 2
}
