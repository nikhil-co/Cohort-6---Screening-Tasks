{
 "cells": [
  {
   "cell_type": "code",
   "execution_count": 1,
   "metadata": {},
   "outputs": [],
   "source": [
    "import pennylane as qml\n",
    "import numpy as np\n",
    "from itertools import combinations"
   ]
  },
  {
   "cell_type": "code",
   "execution_count": 2,
   "metadata": {},
   "outputs": [],
   "source": [
    "def find_n(feature:list):\n",
    "    \n",
    "    max_side = np.max(feature)\n",
    "    binary = bin(max_side)[2:]\n",
    "    n = len(binary)\n",
    "\n",
    "    return n"
   ]
  },
  {
   "cell_type": "code",
   "execution_count": 70,
   "metadata": {},
   "outputs": [
    {
     "data": {
      "text/plain": [
       "1"
      ]
     },
     "execution_count": 70,
     "metadata": {},
     "output_type": "execute_result"
    }
   ],
   "source": [
    "def is_rectangle(sides:list):\n",
    "    n_qubits = find_n(sides)\n",
    "\n",
    "    measurement_qubits = range(3)\n",
    "    n_measure = len(measurement_qubits)\n",
    "\n",
    "    n_qubits_circ = n_measure+4*n_qubits\n",
    "\n",
    "    dev_basis = qml.device('default.qubit',wires=n_qubits_circ+1,shots=100)\n",
    "\n",
    "    wires_a = range(n_measure,n_qubits+n_measure)\n",
    "    wires_b = range(n_qubits+n_measure,2*n_qubits+n_measure)\n",
    "    wires_c = range(2*n_qubits+n_measure,3*n_qubits+n_measure)\n",
    "    wires_d = range(3*n_qubits+n_measure,4*n_qubits+n_measure)\n",
    "    wires = [wires_a,wires_b,wires_c,wires_d]\n",
    "    m_result = []\n",
    "    def swap(wires_0,wires_1,control:int):\n",
    "        #Comparing a and b - or rather checking if a == b - returns |0> on the ancilla if equal and returns |+>\n",
    "        for i,j in zip(wires_0,wires_1):\n",
    "            qml.ctrl(qml.SWAP([i,j]),control=control)\n",
    "\n",
    "\n",
    "    @qml.qnode(dev_basis)\n",
    "    def base_enc(feature:list):\n",
    "    \n",
    "        qml.BasisEmbedding(features=feature[0], wires=wires_a)\n",
    "        qml.BasisEmbedding(features=feature[1], wires=wires_b)\n",
    "        qml.BasisEmbedding(features=feature[2], wires=wires_c)\n",
    "        qml.BasisEmbedding(features=feature[3], wires=wires_d)\n",
    "        \n",
    "    \n",
    "        qml.Hadamard(measurement_qubits[0])\n",
    "        swap(wires_a,wires_b,measurement_qubits[0])\n",
    "        swap(wires_c,wires_d,measurement_qubits[0])\n",
    "        qml.Hadamard(measurement_qubits[0])\n",
    "\n",
    "        qml.Hadamard(measurement_qubits[1])\n",
    "        swap(wires_a,wires_c,measurement_qubits[1])\n",
    "        swap(wires_b,wires_d,measurement_qubits[1])\n",
    "        qml.Hadamard(measurement_qubits[1])\n",
    "\n",
    "        qml.Hadamard(measurement_qubits[2])\n",
    "        swap(wires_a,wires_d,measurement_qubits[2])\n",
    "        swap(wires_b,wires_c,measurement_qubits[2])\n",
    "        qml.Hadamard(measurement_qubits[2])\n",
    "\n",
    "        return qml.probs(measurement_qubits[0]),qml.probs(measurement_qubits[1]),qml.probs(measurement_qubits[2])\n",
    "    \n",
    "    circ_result = base_enc(sides)\n",
    "    rectangle = 0\n",
    "    for i,j in enumerate(circ_result):\n",
    "        if  j[0]==1:\n",
    "            rectangle = rectangle + 1\n",
    "            \n",
    "    if rectangle == 3 or rectangle == 1:\n",
    "        return 1\n",
    "\n",
    "    return 0\n",
    "\n",
    "\n",
    "is_rectangle([21,2,2,21])"
   ]
  },
  {
   "cell_type": "code",
   "execution_count": null,
   "metadata": {},
   "outputs": [],
   "source": []
  }
 ],
 "metadata": {
  "kernelspec": {
   "display_name": "qc",
   "language": "python",
   "name": "python3"
  },
  "language_info": {
   "codemirror_mode": {
    "name": "ipython",
    "version": 3
   },
   "file_extension": ".py",
   "mimetype": "text/x-python",
   "name": "python",
   "nbconvert_exporter": "python",
   "pygments_lexer": "ipython3",
   "version": "3.9.7"
  },
  "orig_nbformat": 4,
  "vscode": {
   "interpreter": {
    "hash": "3dc53fd84ad5731d04d4fc36beb52296b89dd90b5123e6bc5399b8c2dcae883a"
   }
  }
 },
 "nbformat": 4,
 "nbformat_minor": 2
}
