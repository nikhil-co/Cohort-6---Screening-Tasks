{
 "cells": [
  {
   "attachments": {},
   "cell_type": "markdown",
   "metadata": {},
   "source": [
    "## Task 2 - Is Rectangle?"
   ]
  },
  {
   "attachments": {},
   "cell_type": "markdown",
   "metadata": {},
   "source": [
    "### Task - Given four positive integers, determine if these four intergers taken as length of sides would form a rectangle."
   ]
  },
  {
   "attachments": {},
   "cell_type": "markdown",
   "metadata": {},
   "source": [
    "Solution - Sides of rectangle have a property that parallel sides are equal in length. So for four arbitary intergers to form a rectangle two integers have to be equal to the remaining integers or they could all be euqal forming a square but that is also a case of a rectangle. \n",
    "\n",
    "Let the four positive integers be [a,b,c,d]. And \n",
    "$$f(x,y) =\n",
    "  \\begin{cases}\n",
    "    1       & \\quad \\text{if } x=y \\\\\n",
    "    0  & \\quad \\text{if } x\\neq y \n",
    "  \\end{cases}\n",
    "$$  \n",
    "be a equality check between x and y returning 0 is not equal and 1 if equal. We have 4 cases where the four numbers could form a rectangle. The cases are -\n",
    "\n",
    "1. $a=b \\text{ and } c=d$\n",
    "\n",
    "2. $a=c \\text{ and } b=d$\n",
    "\n",
    "3. $a=d \\text{ and } b=d$\n",
    "\n",
    "4. $a=b=c=d$\n",
    "\n",
    "We need to check for these cases, we have 6 equalities we have to check for, 6 comes from ${4 \\choose 2}$. We can write the above cases in the form of equality checks -\n",
    "\n",
    "1. $f(a,b)*f(c,d)$\n",
    "\n",
    "2. $f(a,c)*f(b,d)$\n",
    "\n",
    "3. $f(a,d)*f(b,c)$\n",
    "\n",
    "We need to check for the 4th explicitly as we will have all the three check to be 1 in the case of a square. \n",
    "\n"
   ]
  },
  {
   "attachments": {},
   "cell_type": "markdown",
   "metadata": {},
   "source": [
    "#### Checking for equality using SWAP test\n"
   ]
  },
  {
   "cell_type": "code",
   "execution_count": 1,
   "metadata": {},
   "outputs": [],
   "source": [
    "import pennylane as qml\n",
    "import numpy as np\n",
    "from itertools import combinations"
   ]
  },
  {
   "cell_type": "code",
   "execution_count": 2,
   "metadata": {},
   "outputs": [],
   "source": [
    "def find_n(feature:list):\n",
    "    \n",
    "    max_side = np.max(feature)\n",
    "    binary = bin(max_side)[2:]\n",
    "    n = len(binary)\n",
    "\n",
    "    return n"
   ]
  },
  {
   "cell_type": "code",
   "execution_count": 3,
   "metadata": {},
   "outputs": [],
   "source": [
    "def is_rectangle(sides:list):\n",
    "    n_qubits = find_n(sides)\n",
    "\n",
    "    measurement_qubits = range(3)\n",
    "    n_measure = len(measurement_qubits)\n",
    "\n",
    "    n_qubits_circ = n_measure+4*n_qubits\n",
    "\n",
    "    dev_basis = qml.device('default.qubit',wires=n_qubits_circ+1,shots=100)\n",
    "\n",
    "    wires_a = range(n_measure,n_qubits+n_measure)\n",
    "    wires_b = range(n_qubits+n_measure,2*n_qubits+n_measure)\n",
    "    wires_c = range(2*n_qubits+n_measure,3*n_qubits+n_measure)\n",
    "    wires_d = range(3*n_qubits+n_measure,4*n_qubits+n_measure)\n",
    "     \n",
    "    def swap(wires_0,wires_1,control:int):\n",
    "        #Comparing a and b - or rather checking if a == b - returns |0> on the ancilla if equal and returns |+>\n",
    "        for i,j in zip(wires_0,wires_1):\n",
    "            qml.ctrl(qml.SWAP([i,j]),control=control)\n",
    "\n",
    "    @qml.qnode(dev_basis)\n",
    "    def base_enc(feature:list):\n",
    "    \n",
    "        qml.BasisEmbedding(features=feature[0], wires=wires_a)\n",
    "        qml.BasisEmbedding(features=feature[1], wires=wires_b)\n",
    "        qml.BasisEmbedding(features=feature[2], wires=wires_c)\n",
    "        qml.BasisEmbedding(features=feature[3], wires=wires_d)\n",
    "        \n",
    "    \n",
    "        qml.Hadamard(measurement_qubits[0])\n",
    "        swap(wires_a,wires_b,measurement_qubits[0])\n",
    "        swap(wires_c,wires_d,measurement_qubits[0])\n",
    "        qml.Hadamard(measurement_qubits[0])\n",
    "\n",
    "        qml.Hadamard(measurement_qubits[1])\n",
    "        swap(wires_a,wires_c,measurement_qubits[1])\n",
    "        swap(wires_b,wires_d,measurement_qubits[1])\n",
    "        qml.Hadamard(measurement_qubits[1])\n",
    "\n",
    "        qml.Hadamard(measurement_qubits[2])\n",
    "        swap(wires_a,wires_d,measurement_qubits[2])\n",
    "        swap(wires_b,wires_c,measurement_qubits[2])\n",
    "        qml.Hadamard(measurement_qubits[2])\n",
    "\n",
    "        return qml.probs(measurement_qubits[0]),qml.probs(measurement_qubits[1]),qml.probs(measurement_qubits[2])\n",
    "    \n",
    "    print(qml.drawer.draw(base_enc,max_length=120)(sides))\n",
    "\n",
    "    circ_result = base_enc(sides)\n",
    "    rectangle = 0\n",
    "\n",
    "    for i,j in enumerate(circ_result):\n",
    "        if  j[0]==1:\n",
    "            rectangle = rectangle + 1\n",
    "            \n",
    "    if rectangle == 3 or rectangle == 1:\n",
    "        return 1\n",
    "    return 0\n",
    "\n"
   ]
  },
  {
   "cell_type": "code",
   "execution_count": 6,
   "metadata": {},
   "outputs": [
    {
     "name": "stdout",
     "output_type": "stream",
     "text": [
      " 0: ──H──────────────╭●────╭●────╭●────╭●────╭●────╭●─────H─────────────────────────────────────────────────────────\n",
      " 1: ─────────────────│─────│─────│─────│─────│─────│──────H─╭●────╭●────╭●────╭●────╭●────╭●─────H──────────────────\n",
      " 2: ─────────────────│─────│─────│─────│─────│─────│────────│─────│─────│─────│─────│─────│──────H─╭●────╭●────╭●───\n",
      " 3: ─╭BasisEmbedding─├SWAP─│─────│─────│─────│─────│────────├SWAP─│─────│─────│─────│─────│────────├SWAP─│─────│────\n",
      " 4: ─├BasisEmbedding─│─────├SWAP─│─────│─────│─────│────────│─────├SWAP─│─────│─────│─────│────────│─────├SWAP─│────\n",
      " 5: ─╰BasisEmbedding─│─────│─────├SWAP─│─────│─────│────────│─────│─────├SWAP─│─────│─────│────────│─────│─────├SWAP\n",
      " 6: ─╭BasisEmbedding─╰SWAP─│─────│─────│─────│─────│────────│─────│─────│─────├SWAP─│─────│────────│─────│─────│────\n",
      " 7: ─├BasisEmbedding───────╰SWAP─│─────│─────│─────│────────│─────│─────│─────│─────├SWAP─│────────│─────│─────│────\n",
      " 8: ─╰BasisEmbedding─────────────╰SWAP─│─────│─────│────────│─────│─────│─────│─────│─────├SWAP────│─────│─────│────\n",
      " 9: ─╭BasisEmbedding───────────────────├SWAP─│─────│────────╰SWAP─│─────│─────│─────│─────│────────│─────│─────│────\n",
      "10: ─├BasisEmbedding───────────────────│─────├SWAP─│──────────────╰SWAP─│─────│─────│─────│────────│─────│─────│────\n",
      "11: ─╰BasisEmbedding───────────────────│─────│─────├SWAP────────────────╰SWAP─│─────│─────│────────│─────│─────│────\n",
      "12: ─╭BasisEmbedding───────────────────╰SWAP─│─────│──────────────────────────╰SWAP─│─────│────────╰SWAP─│─────│────\n",
      "13: ─├BasisEmbedding─────────────────────────╰SWAP─│────────────────────────────────╰SWAP─│──────────────╰SWAP─│────\n",
      "14: ─╰BasisEmbedding───────────────────────────────╰SWAP──────────────────────────────────╰SWAP────────────────╰SWAP\n",
      "\n",
      "───────────────────────┤  Probs\n",
      "───────────────────────┤  Probs\n",
      "──╭●────╭●────╭●─────H─┤  Probs\n",
      "──│─────│─────│────────┤       \n",
      "──│─────│─────│────────┤       \n",
      "──│─────│─────│────────┤       \n",
      "──├SWAP─│─────│────────┤       \n",
      "──│─────├SWAP─│────────┤       \n",
      "──│─────│─────├SWAP────┤       \n",
      "──╰SWAP─│─────│────────┤       \n",
      "────────╰SWAP─│────────┤       \n",
      "──────────────╰SWAP────┤       \n",
      "───────────────────────┤       \n",
      "───────────────────────┤       \n",
      "───────────────────────┤       \n"
     ]
    },
    {
     "data": {
      "text/plain": [
       "1"
      ]
     },
     "execution_count": 6,
     "metadata": {},
     "output_type": "execute_result"
    }
   ],
   "source": [
    "\n",
    "is_rectangle([4,2,2,4])"
   ]
  },
  {
   "cell_type": "code",
   "execution_count": null,
   "metadata": {},
   "outputs": [],
   "source": []
  },
  {
   "cell_type": "code",
   "execution_count": null,
   "metadata": {},
   "outputs": [],
   "source": []
  }
 ],
 "metadata": {
  "kernelspec": {
   "display_name": "qc",
   "language": "python",
   "name": "python3"
  },
  "language_info": {
   "codemirror_mode": {
    "name": "ipython",
    "version": 3
   },
   "file_extension": ".py",
   "mimetype": "text/x-python",
   "name": "python",
   "nbconvert_exporter": "python",
   "pygments_lexer": "ipython3",
   "version": "3.9.7"
  },
  "orig_nbformat": 4,
  "vscode": {
   "interpreter": {
    "hash": "3dc53fd84ad5731d04d4fc36beb52296b89dd90b5123e6bc5399b8c2dcae883a"
   }
  }
 },
 "nbformat": 4,
 "nbformat_minor": 2
}
